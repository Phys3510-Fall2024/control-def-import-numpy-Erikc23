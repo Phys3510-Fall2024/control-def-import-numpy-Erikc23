{
 "cells": [
  {
   "cell_type": "markdown",
   "id": "6b4a758a-6885-42e9-975c-9afb7de4efaf",
   "metadata": {},
   "source": [
    "\n",
    "- scalar        :c\n",
    "- pseudoscalar  :Z(XxY)\n",
    "- polar vector  :z\n",
    "- axial vector  :XxY=z\n",
    "\n",
    "\n",
    "\n",
    "\n",
    "\n",
    "\n",
    "| 1D object    | identity |   inversion    | mirror_x | mirror_z | mirror_y | rotation_x_180 |\n",
    "|--------------|----------|----------------|-----------|----------|----------|----------------|\n",
    "| scalar       | 1        |        1        |      1    |     1    |     1    |        1       |\n",
    "| pseudoscalar | 1        |        -1        |      -1   |     -1   |     -1   |         1      |\n",
    "| polar vector | 1        |          -1      |     1    | -1       |    1     |      -1        |\n",
    "| axial vector | 1        |           1     |       -1   |      1   |      -1  |       -1       |"
   ]
  },
  {
   "cell_type": "code",
   "execution_count": 46,
   "id": "3c1d6981-0390-4e46-8054-439c40540284",
   "metadata": {},
   "outputs": [
    {
     "name": "stdout",
     "output_type": "stream",
     "text": [
      "1\n",
      "1\n",
      "[0 0 1]\n",
      "[0 0 1]\n"
     ]
    }
   ],
   "source": [
    "import numpy as np\n",
    "\n",
    "#defining x y and z as vectors\n",
    "x = np.array([1,0,0])\n",
    "y = np.array([0,1,0])\n",
    "z = np.array([0,0,1])\n",
    "\n",
    "scalar = np.dot(z, z) # dot product\n",
    "\n",
    "pseudoscalar = np.dot(z, np.cross(x, y)) # scalar triple product\n",
    "\n",
    "polar_vector = z # no operation\n",
    "\n",
    "axial_vector = np.cross(x, y) # cross product\n",
    "\n",
    "print(scalar)\n",
    "print(pseudoscalar)\n",
    "print(polar_vector)\n",
    "print(axial_vector)"
   ]
  },
  {
   "cell_type": "code",
   "execution_count": 47,
   "id": "e5d8d16c-b395-4f37-a8e3-6a13ea5b9b73",
   "metadata": {},
   "outputs": [],
   "source": [
    "# I originally kept these as full matrices but they kept acting weird when I tested them.\n",
    "# I also tried converting x,y, and z into vertical forms but that also caused issues.\n",
    "# For the purposes of this assignment I assume these will still function as vectors?\n",
    "\n",
    "inversion = np.array([-1,  -1,  -1])\n",
    "\n",
    "#- mirror_x: a mirror in the zy-plane\n",
    "mirror_x = np.array([-1,  1,  1])\n",
    "\n",
    "#- mirror_z: a mirror in the xy-plane\n",
    "mirror_z = np.array([1,  1,  -1])\n",
    "\n",
    "#- mirror_y: a mirror in the zx-plane\n",
    "mirror_y = np.array([1,  -1,  1])\n",
    "\n",
    "#- rotation_x_180: a 180 degree rotation about the x-axis\n",
    "rotation_x_180 = np.array([1,  -1,  -1])\n"
   ]
  },
  {
   "cell_type": "code",
   "execution_count": 48,
   "id": "f6efd7e6-ac69-45ad-beb3-26b47e0a0528",
   "metadata": {},
   "outputs": [
    {
     "name": "stdout",
     "output_type": "stream",
     "text": [
      "1\n",
      "-1\n",
      "[ 0  0 -1]\n",
      "[0 0 1]\n"
     ]
    }
   ],
   "source": [
    "#inverse objects\n",
    "inv_scal = np.dot(inversion*z, inversion*z)\n",
    "inv_pscal = np.dot(inversion*z, np.cross(inversion*x, inversion*y))\n",
    "inv_pvec = inversion*z\n",
    "inv_avec = np.cross(inversion*x, inversion*y)\n",
    "\n",
    "print(inv_scal )\n",
    "print(inv_pscal)\n",
    "print(inv_pvec )\n",
    "print(inv_avec )\n"
   ]
  },
  {
   "cell_type": "code",
   "execution_count": 49,
   "id": "f2f31bdd-b5b6-4566-9b30-afef5df19a84",
   "metadata": {},
   "outputs": [
    {
     "name": "stdout",
     "output_type": "stream",
     "text": [
      "1\n",
      "-1\n",
      "[0 0 1]\n",
      "[ 0  0 -1]\n"
     ]
    }
   ],
   "source": [
    "#mirrors the x axis\n",
    "#I guess multiplying each dimension was not really necessary, but for the sake of posterity;\n",
    "#and for the sake of using find and replace instead of picking through these 1 by 1 \n",
    "mir_x_scal = np.dot(mirror_x*z, mirror_x*z)\n",
    "mir_x_pscal = np.dot(mirror_x*z, np.cross(mirror_x*x, mirror_x*y))\n",
    "mir_x_pvec = mirror_x*z\n",
    "mir_x_avec = np.cross(mirror_x*x, mirror_x*y)\n",
    "\n",
    "print(mir_x_scal )\n",
    "print(mir_x_pscal)\n",
    "print(mir_x_pvec )\n",
    "print(mir_x_avec )\n"
   ]
  },
  {
   "cell_type": "code",
   "execution_count": 50,
   "id": "0ca2714a-bcd0-4ca6-b941-57dd2a34a8b0",
   "metadata": {},
   "outputs": [
    {
     "name": "stdout",
     "output_type": "stream",
     "text": [
      "1\n",
      "-1\n",
      "[0 0 1]\n",
      "[ 0  0 -1]\n"
     ]
    }
   ],
   "source": [
    "#mirrors the y axis\n",
    "mir_y_scal = np.dot(mirror_y*z, mirror_y*z)\n",
    "mir_y_pscal = np.dot(mirror_y*z, np.cross(mirror_y*x, mirror_y*y))\n",
    "mir_y_pvec = mirror_y*z\n",
    "mir_y_avec = np.cross(mirror_y*x, mirror_y*y)\n",
    "\n",
    "print(mir_y_scal )\n",
    "print(mir_y_pscal)\n",
    "print(mir_y_pvec )\n",
    "print(mir_y_avec )\n"
   ]
  },
  {
   "cell_type": "code",
   "execution_count": 51,
   "id": "492aef88-dfac-4bb2-9ce9-4ad7f2ed3fb9",
   "metadata": {},
   "outputs": [
    {
     "name": "stdout",
     "output_type": "stream",
     "text": [
      "1\n",
      "-1\n",
      "[ 0  0 -1]\n",
      "[0 0 1]\n"
     ]
    }
   ],
   "source": [
    "#mirrors the z axis\n",
    "mir_z_scal = np.dot(mirror_z*z, mirror_z*z)\n",
    "mir_z_pscal = np.dot(mirror_z*z, np.cross(mirror_z*x, mirror_z*y))\n",
    "mir_z_pvec = mirror_z*z\n",
    "mir_z_avec = np.cross(mirror_z*x, mirror_z*y)\n",
    "\n",
    "print(mir_z_scal )\n",
    "print(mir_z_pscal)\n",
    "print(mir_z_pvec )\n",
    "print(mir_z_avec )\n"
   ]
  },
  {
   "cell_type": "code",
   "execution_count": 52,
   "id": "a585cc6c-de26-4cef-b4fd-bf046b1b1d31",
   "metadata": {},
   "outputs": [
    {
     "name": "stdout",
     "output_type": "stream",
     "text": [
      "1\n",
      "1\n",
      "[ 0  0 -1]\n",
      "[ 0  0 -1]\n"
     ]
    }
   ],
   "source": [
    "#180 degree rotation along the x axis\n",
    "rot_x_180_scal = np.dot(rotation_x_180*z, rotation_x_180*z)\n",
    "rot_x_180_pscal = np.dot(rotation_x_180*z, np.cross(rotation_x_180*x, rotation_x_180*y))\n",
    "rot_x_180_pvec = rotation_x_180*z\n",
    "rot_x_180_avec = np.cross(rotation_x_180*x, rotation_x_180*y)\n",
    "\n",
    "print(rot_x_180_scal )\n",
    "print(rot_x_180_pscal)\n",
    "print(rot_x_180_pvec )\n",
    "print(rot_x_180_avec )\n"
   ]
  },
  {
   "cell_type": "code",
   "execution_count": null,
   "id": "59f09012-a669-4920-8e33-16f4fda1c348",
   "metadata": {},
   "outputs": [],
   "source": []
  }
 ],
 "metadata": {
  "kernelspec": {
   "display_name": "Python 3 (ipykernel)",
   "language": "python",
   "name": "python3"
  },
  "language_info": {
   "codemirror_mode": {
    "name": "ipython",
    "version": 3
   },
   "file_extension": ".py",
   "mimetype": "text/x-python",
   "name": "python",
   "nbconvert_exporter": "python",
   "pygments_lexer": "ipython3",
   "version": "3.9.19"
  }
 },
 "nbformat": 4,
 "nbformat_minor": 5
}
